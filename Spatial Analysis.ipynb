{
 "cells": [
  {
   "cell_type": "code",
   "execution_count": 30,
   "id": "bb229632",
   "metadata": {},
   "outputs": [],
   "source": [
    "import scanpy as sc\n",
    "import squidpy as sq\n",
    "import matplotlib.pyplot as plt\n",
    "import os"
   ]
  },
  {
   "cell_type": "code",
   "execution_count": 5,
   "id": "1f69bc38",
   "metadata": {},
   "outputs": [
    {
     "name": "stderr",
     "output_type": "stream",
     "text": [
      "C:\\Users\\Roulis_Lab\\AppData\\Roaming\\Python\\Python312\\site-packages\\anndata\\_core\\aligned_df.py:68: ImplicitModificationWarning: Transforming to str index.\n",
      "  warnings.warn(\"Transforming to str index.\", ImplicitModificationWarning)\n"
     ]
    },
    {
     "name": "stdout",
     "output_type": "stream",
     "text": [
      "AnnData object with n_obs × n_vars = 1348582 × 990\n",
      "    obs: 'x', 'y', 'Mouse_ID', 'Technical_repeat_number', 'Sample_type', 'Slice_ID', 'FOV', 'Cell_ID', 'sample', 'N_genes', 'Tier1', 'Tier2', 'Tier3', 'Leiden_neigh', 'Neigh_umap_x', 'Neigh_umap_y', 'Tier2_umap_x', 'Tier2_umap_y', 'Tier3_umap_x', 'Tier3_umap_y', 'Tier1_umap_x', 'Tier1_umap_y'\n",
      "    var: 'n_cells', 'highly_variable', 'means', 'dispersions', 'dispersions_norm'\n",
      "    uns: 'Neigh_anndata', 'Sample_type_colors', 'Tier1_colors', 'Tier2_colors', 'Tier3_colors', 'hvg', 'leiden', 'log1p', 'neighbors', 'pca', 'umap'\n",
      "    obsm: 'X_pca', 'X_umap'\n",
      "    varm: 'PCs'\n",
      "    obsp: 'connectivities', 'distances'\n"
     ]
    }
   ],
   "source": [
    "adata_sp = sc.read_h5ad('adata.h5ad')\n",
    "print(adata_sp)"
   ]
  },
  {
   "cell_type": "code",
   "execution_count": 6,
   "id": "600bc2fe",
   "metadata": {},
   "outputs": [
    {
     "name": "stdout",
     "output_type": "stream",
     "text": [
      "AnnData object with n_obs × n_vars = 7181 × 16693\n",
      "    obs: 'orig.ident', 'nCount_RNA', 'nFeature_RNA', 'percent.mt', 'RNA_snn_res.0.5', 'seurat_clusters', 'doublet_class', 'Epithelial_sum_expr', 'PanImmune_sum_expr', 'PlasmaCell_sum_expr', 'NKCell_sum_expr', 'Myeloid_sum_expr', 'Monocyte_Mac_sum_expr', 'Dendritic_sum_expr', 'MastCell_sum_expr', 'Endothelial_sum_expr', 'Lymphatic_Endo_sum_expr', 'Glial_sum_expr', 'Pericyte_sum_expr', 'SMC_sum_expr', 'Fibroblast_sum_expr', 'cell_type', 'condition', 'mouse', 'Epithelial_marker_sum', 'PanImmune_marker_sum', 'PlasmaCell_marker_sum', 'NKCell_marker_sum', 'Myeloid_marker_sum', 'Monocyte_Mac_marker_sum', 'Dendritic_marker_sum', 'MastCell_marker_sum', 'Endothelial_marker_sum', 'Lymphatic_Endo_marker_sum', 'Glial_marker_sum', 'Pericyte_marker_sum', 'SMC_marker_sum', 'Fibroblast_marker_sum', 'predicted.id', 'prediction.score.SMC', 'prediction.score.Lymphatic.endothelial', 'prediction.score.Fibroblasts', 'prediction.score.Vascular.endothelial', 'prediction.score.Pericytes', 'prediction.score.max', 'ident'\n",
      "    uns: 'X_name'\n",
      "    obsm: 'PCA', 'UMAP'\n",
      "    layers: 'logcounts', 'scaledata'\n"
     ]
    }
   ],
   "source": [
    "adata = sc.read_h5ad('combined_mouse_colon.h5ad')\n",
    "print(adata)"
   ]
  },
  {
   "cell_type": "code",
   "execution_count": 13,
   "id": "ed46d0d7",
   "metadata": {},
   "outputs": [
    {
     "name": "stdout",
     "output_type": "stream",
     "text": [
      "760 genes in common\n"
     ]
    }
   ],
   "source": [
    "common_genes = sorted(adata_sp.var_names.intersection(adata.var_names))\n",
    "print(f\"{len(common_genes)} genes in common\")"
   ]
  },
  {
   "cell_type": "code",
   "execution_count": 16,
   "id": "581651e5",
   "metadata": {},
   "outputs": [
    {
     "name": "stdout",
     "output_type": "stream",
     "text": [
      "True\n"
     ]
    }
   ],
   "source": [
    "adata_sp = adata_sp[:, common_genes].copy()\n",
    "adata    = adata[:, common_genes].copy()\n",
    "print(adata_sp.n_vars == adata.n_vars)"
   ]
  },
  {
   "cell_type": "code",
   "execution_count": 18,
   "id": "26abb677",
   "metadata": {},
   "outputs": [
    {
     "name": "stderr",
     "output_type": "stream",
     "text": [
      "C:\\Users\\Roulis_Lab\\AppData\\Roaming\\Python\\Python312\\site-packages\\tqdm\\auto.py:21: TqdmWarning: IProgress not found. Please update jupyter and ipywidgets. See https://ipywidgets.readthedocs.io/en/stable/user_install.html\n",
      "  from .autonotebook import tqdm as notebook_tqdm\n"
     ]
    }
   ],
   "source": [
    "sc.pp.pca(adata_sp, n_comps= 50, svd_solver='arpack')\n",
    "sc.pp.neighbors(adata_sp, n_neighbors=15, n_pcs=50)\n",
    "sc.pp.pca(adata, n_comps=50, svd_solver=\"arpack\")"
   ]
  },
  {
   "cell_type": "code",
   "execution_count": 21,
   "id": "5cb98f50",
   "metadata": {},
   "outputs": [
    {
     "name": "stdout",
     "output_type": "stream",
     "text": [
      "(1348582, 2)\n"
     ]
    }
   ],
   "source": [
    "# Create a spatial embedding in the reference AnnData\n",
    "coords_ref = adata_sp.obs[['x','y']].to_numpy()\n",
    "adata_sp.obsm['spatial'] = coords_ref      \n",
    "\n",
    "print(adata_sp.obsm['spatial'].shape)"
   ]
  },
  {
   "cell_type": "code",
   "execution_count": 29,
   "id": "24c1b52a",
   "metadata": {},
   "outputs": [
    {
     "name": "stderr",
     "output_type": "stream",
     "text": [
      "C:\\Users\\Roulis_Lab\\AppData\\Roaming\\Python\\Python312\\site-packages\\umap\\umap_.py:1952: UserWarning: n_jobs value 1 overridden to 1 by setting random_state. Use no seed for parallelism.\n",
      "  warn(\n"
     ]
    }
   ],
   "source": [
    "sc.tl.ingest(adata, adata_sp, obs='Tier1', embedding_method=['pca', 'umap'])"
   ]
  },
  {
   "cell_type": "code",
   "execution_count": 36,
   "id": "d13ed062",
   "metadata": {},
   "outputs": [],
   "source": [
    "idx = adata_sp.obs_names.get_indexer(adata.obs_names)\n",
    "coords = adata_sp.obsm['spatial'][idx, :]\n",
    "adata.obsm['spatial'] = coords"
   ]
  },
  {
   "cell_type": "code",
   "execution_count": 32,
   "id": "6adf9f3a",
   "metadata": {},
   "outputs": [],
   "source": [
    "# Define your cell-type markers\n",
    "celltype_markers = {\n",
    "  \"Epithelial\":       [\"Cdh1\",\"Epcam\",\"Alpi\",\"Muc2\",\"Vil1\",\"Lyz1\",\"Lgr5\",\"Olfm4\",\"Ccnd1\"],\n",
    "  \"PanImmune\":        [\"Ptprc\"],\n",
    "  \"BCell\":            [\"Ms4a1\",\"Cd19\"],\n",
    "  \"PlasmaCell\":       [\"Mzb1\",\"Ccr10\",\"Sdc1\"],\n",
    "  \"TCell\":            [\"Cd3e\"],\n",
    "  \"CD4_TCell\":        [\"Cd4\"],\n",
    "  \"CD8_TCell\":        [\"Cd8a\",\"Cd8b\"],\n",
    "  \"NKCell\":           [\"Nkg7\",\"Ncam1\"],\n",
    "  \"Myeloid\":          [\"Cd68\",\"Cd74\"],\n",
    "  \"Monocyte_Mac\":     [\"Cd14\"],\n",
    "  \"Dendritic\":        [\"Itgax\"],\n",
    "  \"MastCell\":         [\"Kit\",\"Il1rl1\"],\n",
    "  \"Treg\":             [\"Foxp3\"],\n",
    "  \"Endothelial\":      [\"Pecam1\"],\n",
    "  \"Lymphatic_Endo\":   [\"Lyve1\"],\n",
    "  \"Glial\":            [\"Plp1\",\"S100b\"],\n",
    "  \"Pericyte\":         [\"Rgs5\",\"Pdgfrb\",\"Adipoq\"],\n",
    "  \"SMC\":              [\"Myh11\",\"Actg2\",\"Myocd\",\"Des\",\"Acta2\"],\n",
    "  \"Fibroblast\":       [\"Pdgfra\",\"Sparc\",\"Dcn\",\"Lum\",\"Col1a1\",\"Col14a1\",\"Fgfr2\",\n",
    "                       \"Col3a1\",\"Col4a5\",\"Col4a6\",\"Bmp5\",\"Bmp4\",\"Grem1\",\"Vcam1\",\n",
    "                       \"Ogn\",\"Mgp\",\"Sfrp2\",\"C3\",\"Dpt\"]\n",
    "}\n"
   ]
  },
  {
   "cell_type": "code",
   "execution_count": 37,
   "id": "20b5d245",
   "metadata": {},
   "outputs": [
    {
     "name": "stderr",
     "output_type": "stream",
     "text": [
      "C:\\Users\\Roulis_Lab\\AppData\\Local\\Temp\\ipykernel_22164\\1493527844.py:11: FutureWarning: Use `squidpy.pl.spatial_scatter` instead.\n",
      "  sc.pl.spatial(\n",
      "C:\\Users\\Roulis_Lab\\AppData\\Local\\Temp\\ipykernel_22164\\1493527844.py:20: FutureWarning: Use `squidpy.pl.spatial_scatter` instead.\n",
      "  sc.pl.spatial(\n"
     ]
    }
   ],
   "source": [
    "out_dir = \"SpatialPlots\"\n",
    "os.makedirs(out_dir, exist_ok=True)\n",
    "\n",
    "# loop markers, plot HC vs DSS side by side\n",
    "for celltype, markers in celltype_markers.items():\n",
    "    for gene in markers:\n",
    "        if gene not in adata.var_names:\n",
    "            continue\n",
    "        fig, axes = plt.subplots(1, 2, figsize=(8, 4), sharex=True, sharey=True)\n",
    "        # HC\n",
    "        sc.pl.spatial(\n",
    "            adata[adata.obs[\"condition\"] == \"HC\"],\n",
    "            color       = gene,\n",
    "            ax          = axes[0],\n",
    "            title       = f\"HC — {gene}\",\n",
    "            spot_size   = 30,\n",
    "            show        = False\n",
    "        )\n",
    "        # DSS\n",
    "        sc.pl.spatial(\n",
    "            adata[adata.obs[\"condition\"] == \"DSS\"],\n",
    "            color       = gene,\n",
    "            ax          = axes[1],\n",
    "            title       = f\"DSS — {gene}\",\n",
    "            spot_size   = 30,\n",
    "            show        = False\n",
    "        )\n",
    "        fig.tight_layout()\n",
    "        # save into SpatialPlots/\n",
    "        save_path = os.path.join(out_dir, f\"Spatial_{celltype}_{gene}.png\")\n",
    "        fig.savefig(save_path, dpi=300)\n",
    "        plt.close(fig)\n"
   ]
  },
  {
   "cell_type": "code",
   "execution_count": 38,
   "id": "ac6c2c67",
   "metadata": {},
   "outputs": [],
   "source": [
    "adata_sp.write('adata_copy.h5ad')\n",
    "adata.write('combined_copy.h5ad')"
   ]
  }
 ],
 "metadata": {
  "kernelspec": {
   "display_name": "Python 3",
   "language": "python",
   "name": "python3"
  },
  "language_info": {
   "codemirror_mode": {
    "name": "ipython",
    "version": 3
   },
   "file_extension": ".py",
   "mimetype": "text/x-python",
   "name": "python",
   "nbconvert_exporter": "python",
   "pygments_lexer": "ipython3",
   "version": "3.12.4"
  }
 },
 "nbformat": 4,
 "nbformat_minor": 5
}
